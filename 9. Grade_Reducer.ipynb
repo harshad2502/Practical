{
 "cells": [
  {
   "cell_type": "code",
   "execution_count": 1,
   "id": "59cf31bd",
   "metadata": {},
   "outputs": [
    {
     "name": "stdout",
     "output_type": "stream",
     "text": [
      "Grade A: 0 students\n",
      "Grade B: 0 students\n",
      "Grade C: 0 students\n",
      "Grade D: 0 students\n",
      "Grade F: 0 students\n"
     ]
    }
   ],
   "source": [
    "import sys\n",
    "\n",
    "def reducer():\n",
    "    grade_counts = {'A': 0, 'B': 0, 'C': 0, 'D': 0, 'F': 0}\n",
    "\n",
    "    for line in sys.stdin:\n",
    "        name, grade = line.strip().split(\"\\t\")\n",
    "        grade_counts[grade] += 1\n",
    "\n",
    "    for grade, count in grade_counts.items():\n",
    "        print(f\"Grade {grade}: {count} students\")\n",
    "        \n",
    "if __name__ ==\"__main__\":\n",
    "    reducer()"
   ]
  },
  {
   "cell_type": "code",
   "execution_count": 2,
   "id": "a6695c84",
   "metadata": {},
   "outputs": [
    {
     "name": "stdout",
     "output_type": "stream",
     "text": [
      "GradeA:0 students\n",
      "GradeB:0 students\n",
      "GradeC:0 students\n",
      "GradeD:0 students\n",
      "GradeF:0 students\n"
     ]
    }
   ],
   "source": [
    "import sys\n",
    "\n",
    "def reducer():\n",
    "    grade_counts = {'A': 0, 'B': 0, 'C': 0, 'D': 0, 'F': 0}\n",
    "    \n",
    "    for line in sys.stdin:\n",
    "        name,grade = line.strip().split(\"\\t\")\n",
    "        grade_counts[grade] += 1\n",
    "        \n",
    "    for grade, count in grade_counts.items():\n",
    "        print(f\"Grade{grade}:{count} students\")\n",
    "        \n",
    "if __name__ == \"__main__\":\n",
    "    reducer()"
   ]
  },
  {
   "cell_type": "code",
   "execution_count": 2,
   "id": "d61c1a6d",
   "metadata": {},
   "outputs": [
    {
     "name": "stdout",
     "output_type": "stream",
     "text": [
      "GradesA:0Students\n",
      "GradesB:0Students\n",
      "GradesC:0Students\n",
      "GradesD:0Students\n",
      "GradesF:0Students\n"
     ]
    }
   ],
   "source": [
    "#!/usr/bin/env python\n",
    "import sys\n",
    "def reducer():\n",
    "    grade_counts = {'A': 0, 'B': 0, 'C': 0, 'D': 0, 'F': 0}\n",
    "    \n",
    "    for line in sys.stdin:\n",
    "        name, grade = line.strip().split(\"\\t\")\n",
    "        grade_counts[grade] += 1\n",
    "        \n",
    "    for grade, count in grade_counts.items():\n",
    "        print(f\"Grades{grade}:{count}Students\")\n",
    "        \n",
    "if __name__ == \"__main__\":\n",
    "    reducer()"
   ]
  },
  {
   "cell_type": "code",
   "execution_count": 3,
   "id": "3c1cb471",
   "metadata": {},
   "outputs": [
    {
     "name": "stdout",
     "output_type": "stream",
     "text": [
      "Grade A:0:students\n",
      "Grade B:0:students\n",
      "Grade C:0:students\n",
      "Grade D:0:students\n",
      "Grade F:0:students\n"
     ]
    }
   ],
   "source": [
    "import sys\n",
    "\n",
    "def reducer():\n",
    "    grade_counts = {'A' : 0,'B' : 0,'C' : 0,'D' : 0,'F' : 0}\n",
    "    \n",
    "    for line in sys.stdin:\n",
    "        name, grade = line.strip().split(',')\n",
    "        grade_counts[grade] +=1\n",
    "        \n",
    "    for grade, count in grade_counts.items():\n",
    "        print(f\"Grade {grade}:{count}:students\")\n",
    "        \n",
    "if __name__ == '__main__':\n",
    "    reducer()"
   ]
  },
  {
   "cell_type": "code",
   "execution_count": 4,
   "id": "3aa48159",
   "metadata": {},
   "outputs": [
    {
     "name": "stdout",
     "output_type": "stream",
     "text": [
      "Grade A:0:students\n",
      "Grade B:0:students\n",
      "Grade C:0:students\n",
      "Grade D:0:students\n",
      "Grade F:0:students\n"
     ]
    }
   ],
   "source": [
    "import sys\n",
    "\n",
    "def Reducer():\n",
    "    grade_counts = {'A':0,'B':0,'C':0,'D':0,'F':0}\n",
    "    \n",
    "    for line in sys.stdin:\n",
    "        name, grade = line.strip().split(',')\n",
    "        grade_counts[grade] +=1\n",
    "        \n",
    "    for grade, count in grade_counts.items():\n",
    "        print(f\"Grade {grade}:{count}:students\")\n",
    "        \n",
    "if __name__ == '__main__':\n",
    "    Reducer()"
   ]
  },
  {
   "cell_type": "code",
   "execution_count": 1,
   "id": "c9369e11",
   "metadata": {},
   "outputs": [
    {
     "name": "stdout",
     "output_type": "stream",
     "text": [
      "Grade A:0:students\n",
      "Grade B:0:students\n",
      "Grade C:0:students\n",
      "Grade D:0:students\n",
      "Grade F:0:students\n"
     ]
    }
   ],
   "source": [
    "#!/usr/bin/env python\n",
    "\n",
    "import sys\n",
    "\n",
    "def reducer():\n",
    "    grade_counts = {'A':0,'B':0,'C':0,'D':0,'F':0}\n",
    "    \n",
    "    for line in sys.stdin:\n",
    "        name, grade = line.strip().split(',')\n",
    "        grade_counts[grade] += 1\n",
    "        \n",
    "    for grade, count in grade_counts.items():\n",
    "        print(f\"Grade {grade}:{count}:students\")\n",
    "        \n",
    "if __name__  == \"__main__\":\n",
    "    reducer()"
   ]
  },
  {
   "cell_type": "code",
   "execution_count": 2,
   "id": "3fbeda5e",
   "metadata": {},
   "outputs": [
    {
     "name": "stdout",
     "output_type": "stream",
     "text": [
      "Grade A: 0 students\n",
      "Grade B: 0 students\n",
      "Grade C: 0 students\n",
      "Grade D: 0 students\n",
      "Grade F: 0 students\n"
     ]
    }
   ],
   "source": [
    "import sys\n",
    "\n",
    "def reducer():\n",
    "    grade_counts = {'A': 0, 'B': 0, 'C': 0, 'D': 0, 'F': 0}\n",
    "\n",
    "    for line in sys.stdin:\n",
    "        name, grade = line.strip().split(\"\\t\")\n",
    "        grade_counts[grade] += 1\n",
    "\n",
    "    for grade, count in grade_counts.items():\n",
    "        print(f\"Grade {grade}: {count} students\")\n",
    "        \n",
    "if __name__ ==\"__main__\":\n",
    "    reducer()"
   ]
  },
  {
   "cell_type": "code",
   "execution_count": 3,
   "id": "4786b7d1",
   "metadata": {},
   "outputs": [
    {
     "name": "stdout",
     "output_type": "stream",
     "text": [
      "Grade A:0:students\n",
      "Grade B:0:students\n",
      "Grade C:0:students\n",
      "Grade D:0:students\n",
      "Grade F:0:students\n"
     ]
    }
   ],
   "source": [
    "import sys\n",
    "\n",
    "def reducer():\n",
    "    grade_counts = {'A': 0, 'B': 0, 'C': 0, 'D': 0, 'F': 0}\n",
    "    \n",
    "    for line in sys.stdin:\n",
    "        name, grade = line.strip().split('\"\\t\"')\n",
    "        grade_counts [grade] += 1\n",
    "        \n",
    "    for grade, count in grade_counts.items():\n",
    "        print(f\"Grade {grade}:{count}:students\")\n",
    "        \n",
    "if __name__ == \"__main__\":\n",
    "    reducer()"
   ]
  },
  {
   "cell_type": "code",
   "execution_count": 4,
   "id": "61970471",
   "metadata": {},
   "outputs": [
    {
     "name": "stdout",
     "output_type": "stream",
     "text": [
      "Grade A:0 students\n",
      "Grade B:0 students\n",
      "Grade C:0 students\n",
      "Grade D:0 students\n",
      "Grade F:0 students\n"
     ]
    }
   ],
   "source": [
    "#!/usr/bin/env python\n",
    "\n",
    "import sys\n",
    "\n",
    "def reducer():\n",
    "    grade_counts = {'A': 0, 'B': 0, 'C': 0, 'D': 0, 'F': 0}\n",
    "    \n",
    "    for line in sys.stdin:\n",
    "        name, grade = line.strip().split(\"\\t\")\n",
    "        grade_counts[grade] += 1\n",
    "        \n",
    "    for grade, count in grade_counts.items():\n",
    "        print(f\"Grade {grade}:{count} students\")\n",
    "        \n",
    "if __name__ == \"__main__\":\n",
    "    reducer()"
   ]
  },
  {
   "cell_type": "code",
   "execution_count": 5,
   "id": "a82f3ad1",
   "metadata": {},
   "outputs": [
    {
     "name": "stdout",
     "output_type": "stream",
     "text": [
      "GradeA:0students\n",
      "GradeB:0students\n",
      "GradeC:0students\n",
      "GradeD:0students\n",
      "GradeF:0students\n"
     ]
    }
   ],
   "source": [
    "import sys\n",
    "\n",
    "def reducer():\n",
    "    grade_counts = {'A': 0, 'B': 0, 'C': 0, 'D': 0, 'F': 0}\n",
    "    \n",
    "    for line in sys.stdin:\n",
    "        name, grade = line.strip().split(\"\\t\")\n",
    "        grade_counts[grade] += 1\n",
    "        \n",
    "    for grade, count in grade_counts.items():\n",
    "        print(f\"Grade{grade}:{count}students\")\n",
    "        \n",
    "if __name__ == \"__main__\":\n",
    "    reducer()"
   ]
  },
  {
   "cell_type": "code",
   "execution_count": 6,
   "id": "d5dd1a38",
   "metadata": {},
   "outputs": [
    {
     "name": "stdout",
     "output_type": "stream",
     "text": [
      "GradeA:0students\n",
      "GradeB:0students\n",
      "GradeC:0students\n",
      "GradeD:0students\n",
      "GradeF:0students\n"
     ]
    }
   ],
   "source": [
    "import sys\n",
    "\n",
    "def reducer():\n",
    "    grade_counts = {'A': 0, 'B': 0, 'C': 0, 'D': 0, 'F': 0}\n",
    "    \n",
    "    for line in sys.stdin:\n",
    "        name, grade = line.strip().split(\"\\t\")\n",
    "        grade_counts[grade] += 1\n",
    "        \n",
    "    for grade, count in grade_counts.items():\n",
    "        print(f\"Grade{grade}:{count}students\")\n",
    "        \n",
    "if __name__ == \"__main__\":\n",
    "    reducer()"
   ]
  },
  {
   "cell_type": "code",
   "execution_count": 7,
   "id": "f51bc2be",
   "metadata": {},
   "outputs": [
    {
     "name": "stdout",
     "output_type": "stream",
     "text": [
      "GradeA:0students\n",
      "GradeB:0students\n",
      "GradeC:0students\n",
      "GradeD:0students\n",
      "GradeF:0students\n"
     ]
    }
   ],
   "source": [
    "import sys\n",
    "\n",
    "def reducer():\n",
    "    grade_counts = {'A': 0, 'B': 0, 'C': 0, 'D': 0, 'F': 0}\n",
    "    \n",
    "    for line in sys.stdin:\n",
    "        name, grade = line.strip().split(\"\\t\")\n",
    "        grade_counts[grade] += 1\n",
    "        \n",
    "    for grade, count in grade_counts.items():\n",
    "        print(f\"Grade{grade}:{count}students\")\n",
    "        \n",
    "if __name__ == \"__main__\":\n",
    "    reducer()"
   ]
  },
  {
   "cell_type": "code",
   "execution_count": null,
   "id": "ff629fb2",
   "metadata": {},
   "outputs": [],
   "source": []
  }
 ],
 "metadata": {
  "kernelspec": {
   "display_name": "Python 3 (ipykernel)",
   "language": "python",
   "name": "python3"
  },
  "language_info": {
   "codemirror_mode": {
    "name": "ipython",
    "version": 3
   },
   "file_extension": ".py",
   "mimetype": "text/x-python",
   "name": "python",
   "nbconvert_exporter": "python",
   "pygments_lexer": "ipython3",
   "version": "3.9.13"
  }
 },
 "nbformat": 4,
 "nbformat_minor": 5
}
